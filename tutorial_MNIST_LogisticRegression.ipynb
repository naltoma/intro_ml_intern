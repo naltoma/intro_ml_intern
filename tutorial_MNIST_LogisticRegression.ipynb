{
 "cells": [
  {
   "cell_type": "markdown",
   "metadata": {},
   "source": [
    "# tutorial on MNIST classification by Logistic Regression\n",
    "## Procedure of applied ML\n",
    "1. Preparation\n",
    "    + Make the purpose (goal) clear.\n",
    "    + Make the task concrete.\n",
    "    + Check the possibilities to replace the existing services.\n",
    "+ Prepare the dataset\n",
    "+ Select a model\n",
    "+ Continue learning, evaluation and tuning\n",
    "    + (option) visualize the coefficient of the features in the decision function."
   ]
  },
  {
   "cell_type": "markdown",
   "metadata": {},
   "source": [
    "# 1. preparation\n",
    "- purpose: recognize a handwritten digit (NMIST classification)\n",
    "    - [MNIST DATABASE of handwritten digits](http://yann.lecun.com/exdb/mnist/)\n",
    "\n",
    "# 2. Prepare the dataset\n",
    "- [fetch_openml](https://scikit-learn.org/stable/modules/generated/sklearn.datasets.fetch_openml.html#sklearn.datasets.fetch_openml)\n",
    "- [MNIST classification](https://www.openml.org/d/554)\n",
    "\n"
   ]
  },
  {
   "cell_type": "code",
   "execution_count": 1,
   "metadata": {},
   "outputs": [],
   "source": [
    "from sklearn.datasets import fetch_openml\n",
    "X, y = fetch_openml('mnist_784', version=1, return_X_y=True)"
   ]
  },
  {
   "cell_type": "code",
   "execution_count": 2,
   "metadata": {},
   "outputs": [
    {
     "name": "stdout",
     "output_type": "stream",
     "text": [
      "X.shape =  (70000, 784)\n",
      "y.shape =  (70000,)\n",
      "len(X[0]) =  784\n",
      "y[0] =  5\n"
     ]
    },
    {
     "data": {
      "text/plain": [
       "<Figure size 432x288 with 0 Axes>"
      ]
     },
     "metadata": {},
     "output_type": "display_data"
    },
    {
     "data": {
      "image/png": "[encoded data removed]",
      "text/plain": [
       "<Figure size 432x288 with 1 Axes>"
      ]
     },
     "metadata": {
      "needs_background": "light"
     },
     "output_type": "display_data"
    }
   ],
   "source": [
    "# check the shape of X and y\n",
    "print('X.shape = ', X.shape)\n",
    "print('y.shape = ', y.shape)\n",
    "\n",
    "# check the length of sample (= # of dimensions)\n",
    "print('len(X[0]) = ', len(X[0]))\n",
    "print('y[0] = ', y[0])\n",
    "\n",
    "# each feature represented by a vector that was transformed 28x28 field into 784 line.\n",
    "# so, in order to show the vector on \"field view\", print the vector by 28x28 field.\n",
    "def view_digit(one_vector, plt, x=28, y=28):\n",
    "    plt.clf()\n",
    "    temp = np.array(one_vector).reshape(x,y)\n",
    "    fig, ax = plt.subplots()\n",
    "    ax.invert_yaxis()\n",
    "    ax.pcolor(temp, cmap=plt.cm.Blues)\n",
    "    #plt.show()\n",
    "    return plt\n",
    "\n",
    "import matplotlib.pyplot as plt\n",
    "import numpy as np\n",
    "%matplotlib inline\n",
    "\n",
    "plot = view_digit(X[0], plt)\n",
    "plot.show()"
   ]
  },
  {
   "cell_type": "markdown",
   "metadata": {},
   "source": [
    "# 3. Select a model\n",
    "- [Logistic regression](https://scikit-learn.org/stable/modules/generated/sklearn.linear_model.LogisticRegression.html)"
   ]
  },
  {
   "cell_type": "code",
   "execution_count": 3,
   "metadata": {},
   "outputs": [],
   "source": [
    "from sklearn.linear_model import LogisticRegression\n",
    "model = LogisticRegression()"
   ]
  },
  {
   "cell_type": "markdown",
   "metadata": {},
   "source": [
    "# 4. Continue learning, evaluation and tuning\n",
    "- policy\n",
    "    - divide the dataset into 2 sets, validation set and test set\n",
    "    - in validation set, we try to tune the hyper params.\n",
    "    - after that, we evaluate the optimum model with test set.\n",
    "- ref.\n",
    "    - [check_random_state](https://scikit-learn.org/stable/modules/generated/sklearn.utils.check_random_state.html#sklearn.utils.check_random_state)\n",
    "    - [np.random.RandomState.permutation](https://docs.scipy.org/doc/numpy/reference/generated/numpy.random.RandomState.html)"
   ]
  },
  {
   "cell_type": "markdown",
   "metadata": {},
   "source": [
    "- 1st run\n",
    "    - just apply Logistic Regression to dataset (half for train, remain for test)"
   ]
  },
  {
   "cell_type": "code",
   "execution_count": 4,
   "metadata": {},
   "outputs": [
    {
     "name": "stdout",
     "output_type": "stream",
     "text": [
      "use_samples =  7000\n",
      "(3500, 784) (3500, 784)\n",
      "(3500,) (3500,)\n"
     ]
    },
    {
     "name": "stderr",
     "output_type": "stream",
     "text": [
      "/anaconda3/lib/python3.7/site-packages/sklearn/linear_model/logistic.py:433: FutureWarning: Default solver will be changed to 'lbfgs' in 0.22. Specify a solver to silence this warning.\n",
      "  FutureWarning)\n",
      "/anaconda3/lib/python3.7/site-packages/sklearn/linear_model/logistic.py:460: FutureWarning: Default multi_class will be changed to 'auto' in 0.22. Specify the multi_class option to silence this warning.\n",
      "  \"this warning.\", FutureWarning)\n"
     ]
    },
    {
     "name": "stdout",
     "output_type": "stream",
     "text": [
      "Example run in 4.983 sec\n",
      "precision:  0.8454285714285714\n"
     ]
    }
   ],
   "source": [
    "from sklearn.utils import check_random_state\n",
    "#validation_samples = int(X.shape[0] / 2)\n",
    "use_samples = int(X.shape[0] / 10)\n",
    "half = int(use_samples/2)\n",
    "print('use_samples = ', use_samples)\n",
    "\n",
    "# ready for permutated index for X\n",
    "random_state = check_random_state(0)\n",
    "permutation = random_state.permutation(use_samples)\n",
    "X2 = X[permutation] # shuffled\n",
    "y2 = y[permutation]\n",
    "\n",
    "X_train, X_test = X2[:half], X2[half:use_samples]\n",
    "y_train, y_test = y2[:half], y2[half:use_samples]\n",
    "print(X_train.shape, X_test.shape)\n",
    "print(y_train.shape, y_test.shape)\n",
    "\n",
    "import time\n",
    "t0 = time.time()\n",
    "model.fit(X_train, y_train)\n",
    "runtime = time.time() - t0\n",
    "print('Example run in %.3f sec' % runtime)\n",
    "print('precision: ', model.score(X_test, y_test))"
   ]
  },
  {
   "cell_type": "markdown",
   "metadata": {},
   "source": [
    "- 2nd run\n",
    "    - apply \"standlization\" to the each features.\n",
    "    - [standardization](https://en.wikipedia.org/wiki/Feature_scaling#Standardization)"
   ]
  },
  {
   "cell_type": "code",
   "execution_count": 5,
   "metadata": {},
   "outputs": [
    {
     "name": "stderr",
     "output_type": "stream",
     "text": [
      "/anaconda3/lib/python3.7/site-packages/ipykernel_launcher.py:6: RuntimeWarning: invalid value encountered in true_divide\n",
      "  \n"
     ]
    },
    {
     "data": {
      "text/plain": [
       "<Figure size 432x288 with 0 Axes>"
      ]
     },
     "metadata": {},
     "output_type": "display_data"
    },
    {
     "data": {
      "image/png": "[encoded data removed]",
      "text/plain": [
       "<Figure size 432x288 with 1 Axes>"
      ]
     },
     "metadata": {
      "needs_background": "light"
     },
     "output_type": "display_data"
    },
    {
     "data": {
      "text/plain": [
       "<Figure size 432x288 with 0 Axes>"
      ]
     },
     "metadata": {},
     "output_type": "display_data"
    },
    {
     "data": {
      "image/png": "[encoded data removed]",
      "text/plain": [
       "<Figure size 432x288 with 1 Axes>"
      ]
     },
     "metadata": {
      "needs_background": "light"
     },
     "output_type": "display_data"
    }
   ],
   "source": [
    "def apply_standarization(data):\n",
    "    result = []\n",
    "    for i in range(data.shape[1]):\n",
    "        average = data[:,i].sum() / data.shape[0]\n",
    "        std = np.std(data[:,i])\n",
    "        temp = (data[0:,i] - average) / std\n",
    "        np.nan_to_num(temp, 0)\n",
    "        result.append(temp)\n",
    "    result = np.array(result).T\n",
    "    return result\n",
    "\n",
    "temp_X = apply_standarization(X)\n",
    "plot = view_digit(X[0], plt)\n",
    "plot.show()\n",
    "plot = view_digit(temp_X[0], plt)\n",
    "plot.show()"
   ]
  },
  {
   "cell_type": "code",
   "execution_count": 6,
   "metadata": {},
   "outputs": [
    {
     "name": "stderr",
     "output_type": "stream",
     "text": [
      "/anaconda3/lib/python3.7/site-packages/sklearn/linear_model/logistic.py:433: FutureWarning: Default solver will be changed to 'lbfgs' in 0.22. Specify a solver to silence this warning.\n",
      "  FutureWarning)\n",
      "/anaconda3/lib/python3.7/site-packages/sklearn/linear_model/logistic.py:460: FutureWarning: Default multi_class will be changed to 'auto' in 0.22. Specify the multi_class option to silence this warning.\n",
      "  \"this warning.\", FutureWarning)\n"
     ]
    },
    {
     "name": "stdout",
     "output_type": "stream",
     "text": [
      "precision:  0.096\n"
     ]
    }
   ],
   "source": [
    "X2_train, X2_test = temp_X[:half], temp_X[half:use_samples]\n",
    "model.fit(X2_train, y_train)\n",
    "print('precision: ', model.score(X2_test, y_test))"
   ]
  },
  {
   "cell_type": "markdown",
   "metadata": {},
   "source": [
    "- 3rd run\n",
    "    - change the penalty term from l2 to l1"
   ]
  },
  {
   "cell_type": "code",
   "execution_count": 7,
   "metadata": {},
   "outputs": [
    {
     "name": "stderr",
     "output_type": "stream",
     "text": [
      "/anaconda3/lib/python3.7/site-packages/sklearn/linear_model/logistic.py:433: FutureWarning: Default solver will be changed to 'lbfgs' in 0.22. Specify a solver to silence this warning.\n",
      "  FutureWarning)\n",
      "/anaconda3/lib/python3.7/site-packages/sklearn/linear_model/logistic.py:460: FutureWarning: Default multi_class will be changed to 'auto' in 0.22. Specify the multi_class option to silence this warning.\n",
      "  \"this warning.\", FutureWarning)\n",
      "/anaconda3/lib/python3.7/site-packages/sklearn/linear_model/logistic.py:1297: UserWarning: 'n_jobs' > 1 does not have any effect when 'solver' is set to 'liblinear'. Got 'n_jobs' = 8.\n",
      "  \" = {}.\".format(effective_n_jobs(self.n_jobs)))\n"
     ]
    },
    {
     "name": "stdout",
     "output_type": "stream",
     "text": [
      "precision:  0.8537142857142858\n"
     ]
    }
   ],
   "source": [
    "model = LogisticRegression(penalty='l1', n_jobs=-1)\n",
    "model.fit(X_train, y_train)\n",
    "print('precision: ', model.score(X_test, y_test))"
   ]
  },
  {
   "cell_type": "markdown",
   "metadata": {},
   "source": [
    "- 4th run\n",
    "    - change the hyper param 'C'."
   ]
  },
  {
   "cell_type": "code",
   "execution_count": 8,
   "metadata": {},
   "outputs": [
    {
     "data": {
      "text/plain": [
       "\"\\nCs = [1e+2, 1e+1, 1e+0, 1e-1, 1e-2]\\nfor c in Cs:\\n    model = LogisticRegression(penalty='l1', C=c)\\n    model.fit(X_train, y_train)\\n    print('precision(model:L1, C={}): {}'.format(c, model.score(X_test, y_test)))\\n\""
      ]
     },
     "execution_count": 8,
     "metadata": {},
     "output_type": "execute_result"
    }
   ],
   "source": [
    "'''\n",
    "Cs = [1e+2, 1e+1, 1e+0, 1e-1, 1e-2]\n",
    "for c in Cs:\n",
    "    model = LogisticRegression(penalty='l1', C=c)\n",
    "    model.fit(X_train, y_train)\n",
    "    print('precision(model:L1, C={}): {}'.format(c, model.score(X_test, y_test)))\n",
    "'''"
   ]
  },
  {
   "cell_type": "code",
   "execution_count": 9,
   "metadata": {},
   "outputs": [
    {
     "data": {
      "text/plain": [
       "\"\\nCs = [7, 8, 9, 10, 11, 12, 13, 14, 15, 20, 30, 40]\\nfor c in Cs:\\n    model = LogisticRegression(penalty='l1', C=c)\\n    model.fit(X_train, y_train)\\n    print('precision(model:L1, C={}): {}'.format(c, model.score(X_test, y_test)))\\n\""
      ]
     },
     "execution_count": 9,
     "metadata": {},
     "output_type": "execute_result"
    }
   ],
   "source": [
    "'''\n",
    "Cs = [7, 8, 9, 10, 11, 12, 13, 14, 15, 20, 30, 40]\n",
    "for c in Cs:\n",
    "    model = LogisticRegression(penalty='l1', C=c)\n",
    "    model.fit(X_train, y_train)\n",
    "    print('precision(model:L1, C={}): {}'.format(c, model.score(X_test, y_test)))\n",
    "'''"
   ]
  },
  {
   "cell_type": "markdown",
   "metadata": {},
   "source": [
    "- 5th run\n",
    "    - try other hyper parameters\n",
    "        - multi_class\n",
    "        - solver\n",
    "        - tol\n",
    "    - visualize got parameters (coefficients in the LR model) under the learning"
   ]
  },
  {
   "cell_type": "code",
   "execution_count": 10,
   "metadata": {},
   "outputs": [
    {
     "name": "stdout",
     "output_type": "stream",
     "text": [
      "precision:  0.9077142857142857\n",
      "(10, 784)\n"
     ]
    },
    {
     "data": {
      "image/png": "[encoded data removed]",
      "text/plain": [
       "<Figure size 1440x720 with 10 Axes>"
      ]
     },
     "metadata": {},
     "output_type": "display_data"
    }
   ],
   "source": [
    "model = LogisticRegression(C=20., multi_class='multinomial', solver='saga', tol=0.1, n_jobs=-1)\n",
    "model.fit(X_train, y_train)\n",
    "print('precision: ', model.score(X_test, y_test))\n",
    "\n",
    "print(model.coef_.shape)\n",
    "\n",
    "plt.figure(figsize=(20,10))\n",
    "scale = np.abs(model.coef_).max()\n",
    "for i in range(model.coef_.shape[0]):\n",
    "    plot = plt.subplot(2, 5, i+1)\n",
    "    plot.imshow(model.coef_[i].reshape(28,28), cmap=plt.cm.bwr, vmin=-scale, vmax=scale)\n",
    "    plot.set_xticks(())\n",
    "    plot.set_yticks(())\n",
    "    plot.set_xlabel('Class {}'.format(i))\n",
    "\n",
    "plt.show()"
   ]
  },
  {
   "cell_type": "code",
   "execution_count": null,
   "metadata": {},
   "outputs": [],
   "source": []
  }
 ],
 "metadata": {
  "kernelspec": {
   "display_name": "Python 3",
   "language": "python",
   "name": "python3"
  },
  "language_info": {
   "codemirror_mode": {
    "name": "ipython",
    "version": 3
   },
   "file_extension": ".py",
   "mimetype": "text/x-python",
   "name": "python",
   "nbconvert_exporter": "python",
   "pygments_lexer": "ipython3",
   "version": "3.7.1"
  }
 },
 "nbformat": 4,
 "nbformat_minor": 2
}
